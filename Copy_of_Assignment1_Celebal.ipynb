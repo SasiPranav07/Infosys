{
  "nbformat": 4,
  "nbformat_minor": 0,
  "metadata": {
    "colab": {
      "provenance": [],
      "include_colab_link": true
    },
    "kernelspec": {
      "name": "python3",
      "display_name": "Python 3"
    },
    "language_info": {
      "name": "python"
    }
  },
  "cells": [
    {
      "cell_type": "markdown",
      "metadata": {
        "id": "view-in-github",
        "colab_type": "text"
      },
      "source": [
        "<a href=\"https://colab.research.google.com/github/SasiPranav07/Infosys/blob/main/Copy_of_Assignment1_Celebal.ipynb\" target=\"_parent\"><img src=\"https://colab.research.google.com/assets/colab-badge.svg\" alt=\"Open In Colab\"/></a>"
      ]
    },
    {
      "cell_type": "markdown",
      "source": [
        "# Lower Triangular Pattern"
      ],
      "metadata": {
        "id": "O59MFI_0Wwbf"
      }
    },
    {
      "cell_type": "code",
      "source": [
        "r = int(input(\"Enter the number of rows: \"))\n",
        "for i in range(1, r + 1):\n",
        "    print(\"* \" * i)"
      ],
      "metadata": {
        "id": "M9zIY8eoW-zG",
        "colab": {
          "base_uri": "https://localhost:8080/"
        },
        "outputId": "02dde676-29a1-4c8b-8de3-ccb1c2eb6c1c"
      },
      "execution_count": null,
      "outputs": [
        {
          "output_type": "stream",
          "name": "stdout",
          "text": [
            "Enter the number of rows: 7\n",
            "* \n",
            "* * \n",
            "* * * \n",
            "* * * * \n",
            "* * * * * \n",
            "* * * * * * \n",
            "* * * * * * * \n"
          ]
        }
      ]
    },
    {
      "cell_type": "markdown",
      "source": [
        "#Upper Triangular pattern"
      ],
      "metadata": {
        "id": "UMLzPNKuXOoo"
      }
    },
    {
      "cell_type": "code",
      "source": [
        "r = int(input(\"Enter the number of rows: \"))\n",
        "for i in range(r):\n",
        "    print(\"  \" * i + \"* \" * (r - i))"
      ],
      "metadata": {
        "id": "g476JO2bXWpr",
        "colab": {
          "base_uri": "https://localhost:8080/"
        },
        "outputId": "256a247d-1e58-47bb-a420-f16177c3cab2"
      },
      "execution_count": null,
      "outputs": [
        {
          "output_type": "stream",
          "name": "stdout",
          "text": [
            "Enter the number of rows: 4\n",
            "* * * * \n",
            "  * * * \n",
            "    * * \n",
            "      * \n"
          ]
        }
      ]
    },
    {
      "cell_type": "markdown",
      "source": [
        "#Pyramid shape pattern"
      ],
      "metadata": {
        "id": "MghE0op9Xh77"
      }
    },
    {
      "cell_type": "code",
      "source": [
        "r = int(input(\"Enter the number of rows: \"))\n",
        "for i in range(r):\n",
        "    for j in range(r-i-1):\n",
        "        print(\" \",end=\"\")\n",
        "    temp=2*i+1\n",
        "    for j in range(temp):\n",
        "        print(\"*\",end=\"\")\n",
        "    print()"
      ],
      "metadata": {
        "id": "wQnyiBrBXnvN",
        "colab": {
          "base_uri": "https://localhost:8080/"
        },
        "outputId": "259adc7f-b865-420d-84b3-bfd6b8fb36f0"
      },
      "execution_count": null,
      "outputs": [
        {
          "output_type": "stream",
          "name": "stdout",
          "text": [
            "Enter the number of rows: 8\n",
            "       *\n",
            "      ***\n",
            "     *****\n",
            "    *******\n",
            "   *********\n",
            "  ***********\n",
            " *************\n",
            "***************\n"
          ]
        }
      ]
    },
    {
      "cell_type": "code",
      "source": [],
      "metadata": {
        "id": "V-ufCRBgOleW"
      },
      "execution_count": null,
      "outputs": []
    }
  ]
}